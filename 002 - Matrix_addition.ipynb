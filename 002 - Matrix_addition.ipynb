{
 "cells": [
  {
   "cell_type": "code",
   "execution_count": 22,
   "id": "07ddd758",
   "metadata": {},
   "outputs": [
    {
     "name": "stdout",
     "output_type": "stream",
     "text": [
      "Enter the number of rows : 2\n",
      "Enter the number of columnss: 2\n",
      "\n",
      "1\n",
      "2\n",
      "3\n",
      "4\n",
      "\n",
      "1  2  \n",
      "3  4  \n",
      "\n",
      "10\n",
      "20\n",
      "30\n",
      "40\n",
      "\n",
      "10 20 \n",
      "30 40 \n",
      "\n",
      "\n",
      "\n",
      "11 22 \n",
      "33 44 \n"
     ]
    }
   ],
   "source": [
    "rows = int(input(\"Enter the number of rows : \"))\n",
    "columns = int(input(\"Enter the number of columnss: \"))\n",
    "print()\n",
    "matrix1 = [[int(input()) for j in range(columns)] for i in range(rows)]\n",
    "print()\n",
    "for i in range(rows):\n",
    "    for j in range(columns):\n",
    "        print(format(matrix1[i][j],\"<3\") ,end = \"\")\n",
    "        \n",
    "    print()\n",
    "    \n",
    "print()    \n",
    "matrix2 = [[int(input()) for j in range(columns)] for i in range(rows)]\n",
    "print()\n",
    "for i in range(rows):\n",
    "    for j in range(columns):\n",
    "        print(format(matrix2[i][j],\"<3\") ,end = \"\")\n",
    "        \n",
    "    print()\n",
    "    \n",
    "print()\n",
    "result_matrix =  [[0 for j in range(columns)] for i in range(rows)]\n",
    "\n",
    "print()\n",
    "for i in range(len(matrix1)):\n",
    "    for j in range(len(matrix1[0])):\n",
    "        result_matrix[i][j] = matrix1[i][j] + matrix2[i][j]\n",
    "\n",
    "print()\n",
    "for i in range(rows):\n",
    "    for j in range(columns):\n",
    "        print(format(result_matrix[i][j] ,\"<3\"),end=\"\")\n",
    "    print()"
   ]
  }
 ],
 "metadata": {
  "kernelspec": {
   "display_name": "Python 3",
   "language": "python",
   "name": "python3"
  },
  "language_info": {
   "codemirror_mode": {
    "name": "ipython",
    "version": 3
   },
   "file_extension": ".py",
   "mimetype": "text/x-python",
   "name": "python",
   "nbconvert_exporter": "python",
   "pygments_lexer": "ipython3",
   "version": "3.8.8"
  }
 },
 "nbformat": 4,
 "nbformat_minor": 5
}
